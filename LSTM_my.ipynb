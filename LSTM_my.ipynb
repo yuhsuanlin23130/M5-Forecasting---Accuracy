{
 "cells": [
  {
   "cell_type": "markdown",
   "metadata": {
    "colab_type": "text",
    "id": "k-xfej0H2p8n"
   },
   "source": [
    "### Preprocessing\n"
   ]
  },
  {
   "cell_type": "code",
   "execution_count": 0,
   "metadata": {
    "colab": {},
    "colab_type": "code",
    "id": "zv4LMgwZM5Gl"
   },
   "outputs": [],
   "source": [
    "import numpy as np \n",
    "import pandas as pd\n",
    "from sklearn.preprocessing import MinMaxScaler\n",
    "\n",
    "def downcast_dtypes(df):\n",
    "    float_cols = [c for c in df if df[c].dtype == \"float64\"]\n",
    "    int_cols = [c for c in df if df[c].dtype in [\"int64\", \"int32\"]]\n",
    "    df[float_cols] = df[float_cols].astype(np.float32)\n",
    "    df[int_cols] = df[int_cols].astype(np.int16)\n",
    "    return df\n",
    "\n",
    "timesteps = 21\n",
    "startDay = 350\n",
    "dt = pd.read_csv(\"sales_train_validation.csv\")\n",
    "dt = downcast_dtypes(dt)\n",
    "dt = dt.T\n",
    "# Remove the first six colums id to end up only days as rows\n",
    "dt = dt[6 + startDay:]\n",
    "\n",
    "# Feature Scaling\n",
    "sc = MinMaxScaler(feature_range = (0, 1))\n",
    "dt_scaled = sc.fit_transform(dt)\n",
    "\n",
    "X_train, y_train = [], []\n",
    "for i in range(timesteps, 1913 - startDay):\n",
    "    X_train.append(dt_scaled[i-timesteps:i]) #1~14天, 2~15天, ...\n",
    "    y_train.append(dt_scaled[i][0:30490])  \n",
    "    \n",
    "del dt_scaled\n",
    "X_train = np.array(X_train)\n",
    "y_train = np.array(y_train)"
   ]
  },
  {
   "cell_type": "markdown",
   "metadata": {
    "colab_type": "text",
    "id": "MzplYJSPVWUK"
   },
   "source": [
    "### Training\n",
    "**LSTM Model with Keras**"
   ]
  },
  {
   "cell_type": "code",
   "execution_count": 0,
   "metadata": {
    "colab": {
     "base_uri": "https://localhost:8080/",
     "height": 1000
    },
    "colab_type": "code",
    "id": "dcdF2586yPuh",
    "outputId": "c674c88a-65c6-46a0-8165-db326b343eef"
   },
   "outputs": [
    {
     "name": "stderr",
     "output_type": "stream",
     "text": [
      "Using TensorFlow backend.\n"
     ]
    },
    {
     "name": "stdout",
     "output_type": "stream",
     "text": [
      "Epoch 1/40\n",
      "1542/1542 [==============================] - 41s 27ms/step - loss: 0.0180\n",
      "Epoch 2/40\n",
      "1542/1542 [==============================] - 39s 25ms/step - loss: 0.0156\n",
      "Epoch 3/40\n",
      "1542/1542 [==============================] - 39s 25ms/step - loss: 0.0152\n",
      "Epoch 4/40\n",
      "1542/1542 [==============================] - 39s 26ms/step - loss: 0.0150\n",
      "Epoch 5/40\n",
      "1542/1542 [==============================] - 39s 26ms/step - loss: 0.0148\n",
      "Epoch 6/40\n",
      "1542/1542 [==============================] - 40s 26ms/step - loss: 0.0146\n",
      "Epoch 7/40\n",
      "1542/1542 [==============================] - 39s 25ms/step - loss: 0.0145\n",
      "Epoch 8/40\n",
      "1542/1542 [==============================] - 39s 25ms/step - loss: 0.0144\n",
      "Epoch 9/40\n",
      "1542/1542 [==============================] - 39s 25ms/step - loss: 0.0143\n",
      "Epoch 10/40\n",
      "1542/1542 [==============================] - 39s 26ms/step - loss: 0.0142\n",
      "Epoch 11/40\n",
      "1542/1542 [==============================] - 39s 26ms/step - loss: 0.0141\n",
      "Epoch 12/40\n",
      "1542/1542 [==============================] - 39s 26ms/step - loss: 0.0141\n",
      "Epoch 13/40\n",
      "1542/1542 [==============================] - 39s 25ms/step - loss: 0.0141\n",
      "Epoch 14/40\n",
      "1542/1542 [==============================] - 39s 25ms/step - loss: 0.0139\n",
      "Epoch 15/40\n",
      "1542/1542 [==============================] - 39s 25ms/step - loss: 0.0139\n",
      "Epoch 16/40\n",
      "1542/1542 [==============================] - 39s 25ms/step - loss: 0.0138\n",
      "Epoch 17/40\n",
      "1542/1542 [==============================] - 39s 25ms/step - loss: 0.0138\n",
      "Epoch 18/40\n",
      "1542/1542 [==============================] - 39s 25ms/step - loss: 0.0138\n",
      "Epoch 19/40\n",
      "1542/1542 [==============================] - 39s 25ms/step - loss: 0.0137\n",
      "Epoch 20/40\n",
      "1542/1542 [==============================] - 39s 25ms/step - loss: 0.0137\n",
      "Epoch 21/40\n",
      "1542/1542 [==============================] - 39s 25ms/step - loss: 0.0137\n",
      "Epoch 22/40\n",
      "1542/1542 [==============================] - 39s 25ms/step - loss: 0.0136\n",
      "Epoch 23/40\n",
      "1542/1542 [==============================] - 39s 25ms/step - loss: 0.0135\n",
      "Epoch 24/40\n",
      "1542/1542 [==============================] - 39s 25ms/step - loss: 0.0134\n",
      "Epoch 25/40\n",
      "1542/1542 [==============================] - 39s 25ms/step - loss: 0.0133\n",
      "Epoch 26/40\n",
      "1542/1542 [==============================] - 39s 25ms/step - loss: 0.0133\n",
      "Epoch 27/40\n",
      "1542/1542 [==============================] - 39s 25ms/step - loss: 0.0132\n",
      "Epoch 28/40\n",
      "1542/1542 [==============================] - 39s 25ms/step - loss: 0.0132\n",
      "Epoch 29/40\n",
      "1542/1542 [==============================] - 39s 25ms/step - loss: 0.0132\n",
      "Epoch 30/40\n",
      "1542/1542 [==============================] - 39s 25ms/step - loss: 0.0131\n",
      "Epoch 31/40\n",
      "1542/1542 [==============================] - 39s 25ms/step - loss: 0.0131\n",
      "Epoch 32/40\n",
      "1542/1542 [==============================] - 39s 25ms/step - loss: 0.0131\n",
      "Epoch 33/40\n",
      "1542/1542 [==============================] - 39s 25ms/step - loss: 0.0131\n",
      "Epoch 34/40\n",
      "1542/1542 [==============================] - 39s 25ms/step - loss: 0.0130\n",
      "Epoch 35/40\n",
      "1542/1542 [==============================] - 39s 25ms/step - loss: 0.0130\n",
      "Epoch 36/40\n",
      "1542/1542 [==============================] - 39s 25ms/step - loss: 0.0129\n",
      "Epoch 37/40\n",
      "1542/1542 [==============================] - 38s 25ms/step - loss: 0.0129\n",
      "Epoch 38/40\n",
      "1542/1542 [==============================] - 39s 25ms/step - loss: 0.0128\n",
      "Epoch 39/40\n",
      "1542/1542 [==============================] - 39s 25ms/step - loss: 0.0128\n",
      "Epoch 40/40\n",
      "1542/1542 [==============================] - 39s 25ms/step - loss: 0.0129\n"
     ]
    },
    {
     "data": {
      "text/plain": [
       "<keras.callbacks.callbacks.History at 0x7fc8c9cfcef0>"
      ]
     },
     "execution_count": 11,
     "metadata": {
      "tags": []
     },
     "output_type": "execute_result"
    }
   ],
   "source": [
    "from keras.models import Sequential\n",
    "from keras.layers import Dense, LSTM, Dropout\n",
    "\n",
    "regressor = Sequential()\n",
    "layer_1_units=50\n",
    "regressor.add(LSTM(units = layer_1_units, return_sequences = True, input_shape = (X_train.shape[1], X_train.shape[2])))\n",
    "regressor.add(Dropout(0.2))\n",
    "layer_2_units=200\n",
    "regressor.add(LSTM(units = layer_2_units, return_sequences = True))\n",
    "regressor.add(Dropout(0.2))\n",
    "layer_3_units=400\n",
    "regressor.add(LSTM(units = layer_3_units, return_sequences = True))\n",
    "regressor.add(Dropout(0.2))\n",
    "layer_4_units=800\n",
    "regressor.add(LSTM(units = layer_4_units))\n",
    "regressor.add(Dropout(0.2))\n",
    "regressor.add(Dense(units = 30490))\n",
    "regressor.compile(optimizer = 'adam', loss = 'mean_squared_error')\n",
    "\n",
    "epoch_no=40\n",
    "batch_size_RNN=44\n",
    "regressor.fit(X_train, y_train, epochs = epoch_no, batch_size = batch_size_RNN)"
   ]
  },
  {
   "cell_type": "markdown",
   "metadata": {},
   "source": [
    "### Testing"
   ]
  },
  {
   "cell_type": "code",
   "execution_count": 0,
   "metadata": {
    "colab": {},
    "colab_type": "code",
    "id": "Pd193vv3yPxm"
   },
   "outputs": [],
   "source": [
    "inputs= dt[-timesteps:]    \n",
    "inputs = sc.transform(inputs)\n",
    "\n",
    "X_test = []\n",
    "X_test.append(inputs[0:timesteps]) \n",
    "X_test = np.array(X_test)\n",
    "predictions = []\n",
    "\n",
    "for j in range(timesteps,timesteps + 28):\n",
    "    predicted_stock_price = regressor.predict(X_test[0, j-timesteps:j].reshape(1, timesteps, 30490))\n",
    "    testInput = np.array(predicted_stock_price)\n",
    "    X_test = np.append(X_test, np.array(predicted_stock_price)).reshape(1,j + 1,30490)\n",
    "    predicted_stock_price = sc.inverse_transform(testInput)[:,0:30490]  \n",
    "    predictions.append(predicted_stock_price)\n",
    "    \n",
    "# submission\n",
    "submission = pd.DataFrame(data=np.array(predictions).reshape(28,30490))\n",
    "submission = submission.T\n",
    "submission = pd.concat((submission, submission), ignore_index=True)  #valid=evaluate\n",
    "\n",
    "sample_submission = pd.read_csv(\"sample_submission.csv\") \n",
    "idColumn = sample_submission[[\"id\"]]\n",
    "submission[[\"id\"]] = idColumn  \n",
    "cols = list(submission.columns)\n",
    "cols = cols[-1:] + cols[:-1] \n",
    "submission = submission[cols]\n",
    "colsdeneme = [\"id\"] + [f\"F{i}\" for i in range (1,29)]\n",
    "submission.columns = colsdeneme\n",
    "submission.to_csv(\"submission.csv\", index=False)"
   ]
  },
  {
   "cell_type": "code",
   "execution_count": 0,
   "metadata": {
    "colab": {},
    "colab_type": "code",
    "id": "K7bpashLM5KF"
   },
   "outputs": [],
   "source": []
  }
 ],
 "metadata": {
  "colab": {
   "collapsed_sections": [],
   "machine_shape": "hm",
   "name": "M5-Accuracy: LSTM only sells 0.7410",
   "provenance": []
  },
  "kernelspec": {
   "display_name": "Python 3",
   "language": "python",
   "name": "python3"
  },
  "language_info": {
   "codemirror_mode": {
    "name": "ipython",
    "version": 3
   },
   "file_extension": ".py",
   "mimetype": "text/x-python",
   "name": "python",
   "nbconvert_exporter": "python",
   "pygments_lexer": "ipython3",
   "version": "3.7.4"
  },
  "widgets": {
   "application/vnd.jupyter.widget-state+json": {
    "3959e0f2259d4104be2148171b29c723": {
     "model_module": "@jupyter-widgets/base",
     "model_name": "LayoutModel",
     "state": {
      "_model_module": "@jupyter-widgets/base",
      "_model_module_version": "1.2.0",
      "_model_name": "LayoutModel",
      "_view_count": null,
      "_view_module": "@jupyter-widgets/base",
      "_view_module_version": "1.2.0",
      "_view_name": "LayoutView",
      "align_content": null,
      "align_items": null,
      "align_self": null,
      "border": null,
      "bottom": null,
      "display": null,
      "flex": null,
      "flex_flow": null,
      "grid_area": null,
      "grid_auto_columns": null,
      "grid_auto_flow": null,
      "grid_auto_rows": null,
      "grid_column": null,
      "grid_gap": null,
      "grid_row": null,
      "grid_template_areas": null,
      "grid_template_columns": null,
      "grid_template_rows": null,
      "height": null,
      "justify_content": null,
      "justify_items": null,
      "left": null,
      "margin": null,
      "max_height": null,
      "max_width": null,
      "min_height": null,
      "min_width": null,
      "object_fit": null,
      "object_position": null,
      "order": null,
      "overflow": null,
      "overflow_x": null,
      "overflow_y": null,
      "padding": null,
      "right": null,
      "top": null,
      "visibility": null,
      "width": null
     }
    },
    "443c9e21f5584e2bb96bd2fe50e7617e": {
     "model_module": "@jupyter-widgets/base",
     "model_name": "LayoutModel",
     "state": {
      "_model_module": "@jupyter-widgets/base",
      "_model_module_version": "1.2.0",
      "_model_name": "LayoutModel",
      "_view_count": null,
      "_view_module": "@jupyter-widgets/base",
      "_view_module_version": "1.2.0",
      "_view_name": "LayoutView",
      "align_content": null,
      "align_items": null,
      "align_self": null,
      "border": null,
      "bottom": null,
      "display": null,
      "flex": null,
      "flex_flow": null,
      "grid_area": null,
      "grid_auto_columns": null,
      "grid_auto_flow": null,
      "grid_auto_rows": null,
      "grid_column": null,
      "grid_gap": null,
      "grid_row": null,
      "grid_template_areas": null,
      "grid_template_columns": null,
      "grid_template_rows": null,
      "height": null,
      "justify_content": null,
      "justify_items": null,
      "left": null,
      "margin": null,
      "max_height": null,
      "max_width": null,
      "min_height": null,
      "min_width": null,
      "object_fit": null,
      "object_position": null,
      "order": null,
      "overflow": null,
      "overflow_x": null,
      "overflow_y": null,
      "padding": null,
      "right": null,
      "top": null,
      "visibility": null,
      "width": null
     }
    },
    "5f4843e5d03f47f09b95bc2f9aff59a5": {
     "model_module": "@jupyter-widgets/base",
     "model_name": "LayoutModel",
     "state": {
      "_model_module": "@jupyter-widgets/base",
      "_model_module_version": "1.2.0",
      "_model_name": "LayoutModel",
      "_view_count": null,
      "_view_module": "@jupyter-widgets/base",
      "_view_module_version": "1.2.0",
      "_view_name": "LayoutView",
      "align_content": null,
      "align_items": null,
      "align_self": null,
      "border": null,
      "bottom": null,
      "display": null,
      "flex": null,
      "flex_flow": null,
      "grid_area": null,
      "grid_auto_columns": null,
      "grid_auto_flow": null,
      "grid_auto_rows": null,
      "grid_column": null,
      "grid_gap": null,
      "grid_row": null,
      "grid_template_areas": null,
      "grid_template_columns": null,
      "grid_template_rows": null,
      "height": null,
      "justify_content": null,
      "justify_items": null,
      "left": null,
      "margin": null,
      "max_height": null,
      "max_width": null,
      "min_height": null,
      "min_width": null,
      "object_fit": null,
      "object_position": null,
      "order": null,
      "overflow": null,
      "overflow_x": null,
      "overflow_y": null,
      "padding": null,
      "right": null,
      "top": null,
      "visibility": null,
      "width": null
     }
    },
    "78caffdfe26e4edf8d89386c4d5cc01c": {
     "model_module": "@jupyter-widgets/controls",
     "model_name": "HBoxModel",
     "state": {
      "_dom_classes": [],
      "_model_module": "@jupyter-widgets/controls",
      "_model_module_version": "1.5.0",
      "_model_name": "HBoxModel",
      "_view_count": null,
      "_view_module": "@jupyter-widgets/controls",
      "_view_module_version": "1.5.0",
      "_view_name": "HBoxView",
      "box_style": "",
      "children": [
       "IPY_MODEL_e56f1d7274f14c0abfe99f15ee5b2adb",
       "IPY_MODEL_8e2b0b3053e640b1b779a408cf626205"
      ],
      "layout": "IPY_MODEL_443c9e21f5584e2bb96bd2fe50e7617e"
     }
    },
    "8e2b0b3053e640b1b779a408cf626205": {
     "model_module": "@jupyter-widgets/controls",
     "model_name": "HTMLModel",
     "state": {
      "_dom_classes": [],
      "_model_module": "@jupyter-widgets/controls",
      "_model_module_version": "1.5.0",
      "_model_name": "HTMLModel",
      "_view_count": null,
      "_view_module": "@jupyter-widgets/controls",
      "_view_module_version": "1.5.0",
      "_view_name": "HTMLView",
      "description": "",
      "description_tooltip": null,
      "layout": "IPY_MODEL_5f4843e5d03f47f09b95bc2f9aff59a5",
      "placeholder": "​",
      "style": "IPY_MODEL_e340c1f2f3e94facb7944ae218a293f9",
      "value": " 12/12 [00:22&lt;00:00,  1.89s/it]"
     }
    },
    "cd497f7bc2134bc3bd668824454e4a38": {
     "model_module": "@jupyter-widgets/controls",
     "model_name": "ProgressStyleModel",
     "state": {
      "_model_module": "@jupyter-widgets/controls",
      "_model_module_version": "1.5.0",
      "_model_name": "ProgressStyleModel",
      "_view_count": null,
      "_view_module": "@jupyter-widgets/base",
      "_view_module_version": "1.2.0",
      "_view_name": "StyleView",
      "bar_color": null,
      "description_width": "initial"
     }
    },
    "e340c1f2f3e94facb7944ae218a293f9": {
     "model_module": "@jupyter-widgets/controls",
     "model_name": "DescriptionStyleModel",
     "state": {
      "_model_module": "@jupyter-widgets/controls",
      "_model_module_version": "1.5.0",
      "_model_name": "DescriptionStyleModel",
      "_view_count": null,
      "_view_module": "@jupyter-widgets/base",
      "_view_module_version": "1.2.0",
      "_view_name": "StyleView",
      "description_width": ""
     }
    },
    "e56f1d7274f14c0abfe99f15ee5b2adb": {
     "model_module": "@jupyter-widgets/controls",
     "model_name": "FloatProgressModel",
     "state": {
      "_dom_classes": [],
      "_model_module": "@jupyter-widgets/controls",
      "_model_module_version": "1.5.0",
      "_model_name": "FloatProgressModel",
      "_view_count": null,
      "_view_module": "@jupyter-widgets/controls",
      "_view_module_version": "1.5.0",
      "_view_name": "ProgressView",
      "bar_style": "success",
      "description": "100%",
      "description_tooltip": null,
      "layout": "IPY_MODEL_3959e0f2259d4104be2148171b29c723",
      "max": 12,
      "min": 0,
      "orientation": "horizontal",
      "style": "IPY_MODEL_cd497f7bc2134bc3bd668824454e4a38",
      "value": 12
     }
    }
   }
  }
 },
 "nbformat": 4,
 "nbformat_minor": 1
}
