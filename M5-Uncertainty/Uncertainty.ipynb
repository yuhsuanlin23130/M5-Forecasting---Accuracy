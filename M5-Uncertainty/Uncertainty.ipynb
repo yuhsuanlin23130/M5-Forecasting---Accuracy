{
 "cells": [
  {
   "cell_type": "code",
   "execution_count": 1,
   "metadata": {},
   "outputs": [],
   "source": [
    "import os\n",
    "import pandas as pd\n",
    "import numpy as np\n",
    "\n",
    "sales_train_validation = pd.read_csv('sales_train_validation.csv')\n",
    "sales_train_validation = pd.DataFrame(sales_train_validation ,columns=['id','item_id','dept_id','cat_id','store_id','state_id'])"
   ]
  },
  {
   "cell_type": "code",
   "execution_count": 2,
   "metadata": {},
   "outputs": [],
   "source": [
    "for f in os.listdir(r'prediction'): \n",
    "    df1 = pd.read_csv('prediction/'+f)\n",
    "    df1 = pd.merge(df1, sales_train_validation, on='id', how='left')    \n",
    "    df1 = pd.concat( [df1,pd.DataFrame(np.ones((df1.shape[0],1)))], axis=1)  \n",
    "    \n",
    "    # level1\n",
    "    df2 = df1.groupby(0).sum()    \n",
    "    # level2\n",
    "    df2 = pd.concat( [df2, df1.groupby(\"state_id\").sum().iloc[:,:-1]] , axis=0)    \n",
    "    # level3\n",
    "    df2 = pd.concat( [df2, df1.groupby(\"store_id\").sum().iloc[:,:-1]] , axis=0)       \n",
    "    # level4\n",
    "    df2 = pd.concat( [df2, df1.groupby(\"cat_id\").sum().iloc[:,:-1]] , axis=0)  \n",
    "    # level5\n",
    "    df2 = pd.concat( [df2, df1.groupby(\"dept_id\").sum().iloc[:,:-1]] , axis=0)     \n",
    "    # level6\n",
    "    df2 = pd.concat( [df2, df1.groupby(['state_id',\"cat_id\"]).sum().iloc[:,:-1]] , axis=0)   \n",
    "    # level7\n",
    "    df2 = pd.concat( [df2, df1.groupby(['state_id',\"dept_id\"]).sum().iloc[:,:-1]] , axis=0)   \n",
    "    # level8\n",
    "    df2 = pd.concat( [df2, df1.groupby(['store_id',\"cat_id\"]).sum().iloc[:,:-1]] , axis=0)   \n",
    "    # level9\n",
    "    df2 = pd.concat( [df2, df1.groupby(['store_id',\"dept_id\"]).sum().iloc[:,:-1]] , axis=0)   \n",
    "    # level10\n",
    "    df2 = pd.concat( [df2, df1.groupby(['item_id']).sum().iloc[:,:-1]] , axis=0)     \n",
    "    # level11\n",
    "    df2 = pd.concat( [df2, df1.groupby(['state_id','item_id']).sum().reindex(['WI', 'CA', 'TX'], level='state_id').iloc[:,:-1]] , axis=0)   \n",
    "    # level12\n",
    "    df2 = pd.concat( [df2, df1.groupby(['store_id','item_id']).sum().iloc[:,:-1] ] , axis=0) \n",
    "    \n",
    "    # print(df2.shape)\n",
    "    df2.to_csv('prediction_groupby/{}.csv'.format(f), index=False)\n"
   ]
  },
  {
   "cell_type": "code",
   "execution_count": 3,
   "metadata": {},
   "outputs": [],
   "source": [
    "lst = []\n",
    "\n",
    "for f in os.listdir(r'prediction_groupby'): #path\n",
    "    df3 = pd.read_csv('prediction_groupby/'+f)\n",
    "    lst.append(np.array(df3))\n",
    "\n",
    "q_005,q_025,q_165,q_25,q_5,q_75,q_835,q_975,q_995 = np.zeros(df3.shape),np.zeros(df3.shape),np.zeros(df3.shape),np.zeros(df3.shape),np.zeros(df3.shape),np.zeros(df3.shape),np.zeros(df3.shape),np.zeros(df3.shape),np.zeros(df3.shape)\n",
    "\n",
    "for i in range(lst[0].shape[0]):\n",
    "    for j in range(lst[0].shape[1]):\n",
    "        qqu = []\n",
    "        for f in lst:\n",
    "            qqu.append(f[i][j])\n",
    "        q_005[i][j] = pd.Series(qqu).quantile(0.005)\n",
    "        q_025[i][j] = pd.Series(qqu).quantile(0.025)\n",
    "        q_165[i][j] = pd.Series(qqu).quantile(.165)\n",
    "        q_25[i][j] = pd.Series(qqu).quantile(.25)\n",
    "        q_5[i][j] = pd.Series(qqu).quantile(.5)\n",
    "        q_75[i][j] = pd.Series(qqu).quantile(.75)\n",
    "        q_835[i][j] = pd.Series(qqu).quantile(.835)\n",
    "        q_975[i][j] = pd.Series(qqu).quantile(.975)\n",
    "        q_995[i][j] = pd.Series(qqu).quantile(.995) "
   ]
  },
  {
   "cell_type": "code",
   "execution_count": 23,
   "metadata": {},
   "outputs": [
    {
     "name": "stdout",
     "output_type": "stream",
     "text": [
      "(771120, 28)\n"
     ]
    }
   ],
   "source": [
    "submit = np.concatenate((q_005,q_025,q_165,q_25,q_5,q_75, q_835,q_975,q_995),axis=0)\n",
    "submission = pd.DataFrame(data = np.array(submit))  \n",
    "submission = pd.concat((submission, submission), ignore_index=True)  \n",
    "print(submission.shape)\n",
    "\n",
    "sample_submission = pd.read_csv(\"sample_submission.csv\")  \n",
    "idColumn = sample_submission[[\"id\"]]\n",
    "submission[[\"id\"]] = idColumn  \n",
    "cols = list(submission.columns)\n",
    "cols = cols[-1:] + cols[:-1] \n",
    "submission = submission[cols]\n",
    "colsdeneme = [\"id\"] + [f\"F{i}\" for i in range (1,29)]\n",
    "submission.columns = colsdeneme\n",
    "submission.to_csv(\"test_submission.csv\", index=False)"
   ]
  },
  {
   "cell_type": "code",
   "execution_count": null,
   "metadata": {},
   "outputs": [],
   "source": []
  }
 ],
 "metadata": {
  "kernelspec": {
   "display_name": "Python 3",
   "language": "python",
   "name": "python3"
  },
  "language_info": {
   "codemirror_mode": {
    "name": "ipython",
    "version": 3
   },
   "file_extension": ".py",
   "mimetype": "text/x-python",
   "name": "python",
   "nbconvert_exporter": "python",
   "pygments_lexer": "ipython3",
   "version": "3.7.4"
  }
 },
 "nbformat": 4,
 "nbformat_minor": 2
}
